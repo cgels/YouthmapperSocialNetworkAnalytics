{
 "cells": [
  {
   "cell_type": "markdown",
   "metadata": {},
   "source": [
    "# Import Dependencies"
   ]
  },
  {
   "cell_type": "code",
   "execution_count": 1,
   "metadata": {},
   "outputs": [],
   "source": [
    "import psycopg2\n",
    "import pandas as pd\n",
    "import matplotlib.pyplot as plt\n",
    "import numpy as np\n",
    "import time\n",
    "import math\n",
    "import deepgraph as dg\n",
    "from mpl_toolkits.basemap import Basemap\n",
    "\n",
    "%matplotlib inline\n",
    "\n",
    "plt.style.use(\"ggplot\")"
   ]
  },
  {
   "cell_type": "markdown",
   "metadata": {},
   "source": [
    "# Selecting Data From the Database"
   ]
  },
  {
   "cell_type": "code",
   "execution_count": null,
   "metadata": {},
   "outputs": [],
   "source": [
    "# Create the connection with the database\n",
    "connection = psycopg2.connect(dbname='geocenterdev',\n",
    "                              user='vcchow', \n",
    "                              host='cslvm74.csc.calpoly.edu', \n",
    "                              password='vcchow')\n",
    "\n",
    "cur = connection.cursor()\n",
    " \n",
    "query = \"\"\"\n",
    "SELECT\n",
    "  A.id,\n",
    "  A.version,\n",
    "  B.id,\n",
    "  B.version,\n",
    "  B.author,\n",
    "  ST_X(A.point),\n",
    "  ST_Y(A.point),\n",
    "  ST_X(B.point),\n",
    "  ST_Y(B.point),\n",
    "  ST_Distance(A.point, B.point) as dist\n",
    "FROM (SELECT\n",
    "        C.id,\n",
    "        C.version,\n",
    "        C.point,\n",
    "        D.timestamp,\n",
    "        D.author\n",
    "      FROM (node C\n",
    "        JOIN osm_entity D ON C.id = D.id AND C.version = D.version)\n",
    "      WHERE author = 'bigalxyz123' AND extract(YEAR FROM D.timestamp) > 2016) A\n",
    "  JOIN (SELECT\n",
    "          N.id,\n",
    "          N.version,\n",
    "          N.point,\n",
    "          O.author\n",
    "        FROM (node N\n",
    "          JOIN osm_entity O ON N.id = O.id AND N.version = O.version)\n",
    "        WHERE extract(YEAR FROM O.timestamp) > 2016 and author != 'bigalxyz123') B ON ST_DWithin(A.point, B.point, 500)\n",
    "where A.id != B.id limit 500000;\n",
    "\"\"\"\n",
    "cur.execute(query)\n",
    "queried_data = cur.fetchall()"
   ]
  },
  {
   "cell_type": "markdown",
   "metadata": {},
   "source": [
    "# Creating the Deep Graph"
   ]
  },
  {
   "cell_type": "code",
   "execution_count": null,
   "metadata": {},
   "outputs": [],
   "source": [
    "# Load the data into a pandas dataframe\n",
    "youth_data = pd.DataFrame(queried_data, columns = [\"A_id\", \"A_version\", \"B_id\", \n",
    "                                                   \"B_version\", \"B_author\",\"A_lat\", \"A_lon\", \n",
    "                                                   \"B_lat\", \"B_lon\", \"Distance\"])"
   ]
  },
  {
   "cell_type": "code",
   "execution_count": null,
   "metadata": {
    "scrolled": true
   },
   "outputs": [],
   "source": [
    "youth_data.head()"
   ]
  },
  {
   "cell_type": "code",
   "execution_count": null,
   "metadata": {},
   "outputs": [],
   "source": [
    "subset_youth_data = youth_data.sample(1000)"
   ]
  },
  {
   "cell_type": "code",
   "execution_count": null,
   "metadata": {
    "collapsed": true
   },
   "outputs": [],
   "source": [
    "graph = dg.DeepGraph(subset_youth_data)"
   ]
  },
  {
   "cell_type": "markdown",
   "metadata": {},
   "source": [
    "Below I am creating the functions on how to connect each edge. I calculate the lat and lon distane from one point to the next and then I select only users that are within 90m of one another."
   ]
  },
  {
   "cell_type": "code",
   "execution_count": null,
   "metadata": {
    "collapsed": true
   },
   "outputs": [],
   "source": [
    "def great_circle(B_lat_s, B_lat_t, B_lon_s, B_lon_t):\n",
    "    dist = dg.functions.great_circle_dist(B_lat_s, B_lat_t, B_lon_s, B_lon_t)\n",
    "    return dist"
   ]
  },
  {
   "cell_type": "markdown",
   "metadata": {},
   "source": [
    "I tried to reduce the selection criteria, but there were some errors. I will be trying to fix this in the next meeting."
   ]
  },
  {
   "cell_type": "code",
   "execution_count": null,
   "metadata": {
    "collapsed": true
   },
   "outputs": [],
   "source": [
    "def dist_selector(dist, sources, targets):\n",
    "    dista = np.abs(dist)\n",
    "    sources = sources[dista <= 200]\n",
    "    targets = targets[dista <= 200]\n",
    "    return sources, targets"
   ]
  },
  {
   "cell_type": "code",
   "execution_count": null,
   "metadata": {},
   "outputs": [],
   "source": [
    "# Create the graphs based on what criteria to connect and select\n",
    "graph.create_edges(connectors = great_circle,\n",
    "                   selectors = dist_selector)"
   ]
  },
  {
   "cell_type": "code",
   "execution_count": null,
   "metadata": {},
   "outputs": [],
   "source": [
    "graph.e"
   ]
  },
  {
   "cell_type": "code",
   "execution_count": null,
   "metadata": {},
   "outputs": [],
   "source": [
    "# Plotting the lat and lon as a scatterplot\n",
    "obj = graph.plot_2d(\"B_lat\", \"B_lon\", edges = True,\n",
    "                kwds_scatter = {'c': graph.v.B_id,\n",
    "                                'alpha': 0.5})\n"
   ]
  },
  {
   "cell_type": "code",
   "execution_count": null,
   "metadata": {},
   "outputs": [],
   "source": [
    "# Parameters for the map graph\n",
    "kwds_basemap = {'llcrnrlon': graph.v.B_lon.min() - 40,\n",
    "                'urcrnrlon': graph.v.B_lon.max() + 20,\n",
    "                'llcrnrlat': graph.v.B_lat.min() - 20,\n",
    "                'urcrnrlat': graph.v.B_lat.max() + 20,\n",
    "                'resolution': 'i'}\n",
    "\n",
    "kwds_scatter = {'s': 1, \n",
    "                'c': graph.v.B_id,\n",
    "                'edgecolors':'none'}"
   ]
  },
  {
   "cell_type": "code",
   "execution_count": null,
   "metadata": {},
   "outputs": [],
   "source": [
    "# Mapping the nodes\n",
    "objs = graph.plot_map(\"B_lat\", \"B_lon\",\n",
    "                       edges = True,\n",
    "                       kwds_basemap = kwds_basemap,\n",
    "                       kwds_scatter = kwds_scatter)\n",
    "\n",
    "objs['m'].drawcoastlines(linewidth=.3)\n",
    "objs['ax'].set_title(\"Map of 100 Nodes\")"
   ]
  },
  {
   "cell_type": "markdown",
   "metadata": {},
   "source": [
    "I wanted to make a graph which each user to other users dependent on their nodes. In future exploration, I will be adding time into the analysis. Picking the users based on the when they started making a node and then calculating how far away they are from other users and how close they are in proximity of time."
   ]
  }
 ],
 "metadata": {
  "kernelspec": {
   "display_name": "Python 3",
   "language": "python",
   "name": "python3"
  },
  "language_info": {
   "codemirror_mode": {
    "name": "ipython",
    "version": 3
   },
   "file_extension": ".py",
   "mimetype": "text/x-python",
   "name": "python",
   "nbconvert_exporter": "python",
   "pygments_lexer": "ipython3",
   "version": "3.6.1"
  }
 },
 "nbformat": 4,
 "nbformat_minor": 2
}
