{
 "cells": [
  {
   "cell_type": "code",
   "execution_count": 30,
   "metadata": {},
   "outputs": [],
   "source": [
    "import psycopg2\n",
    "import pandas as pd\n",
    "import matplotlib.pyplot as plt\n",
    "import numpy as np\n",
    "import time\n",
    "import math\n",
    "from collections import Counter\n",
    "\n",
    "%matplotlib inline\n",
    "\n",
    "plt.style.use(\"ggplot\")"
   ]
  },
  {
   "cell_type": "markdown",
   "metadata": {},
   "source": [
    "In the query above I took out the created_by tags from the keys so I could analyze tags that were not user data."
   ]
  },
  {
   "cell_type": "code",
   "execution_count": 46,
   "metadata": {},
   "outputs": [],
   "source": [
    "connection = psycopg2.connect(dbname='geocenterdev',\n",
    "                              user='jrkaspar', \n",
    "                              host='cslvm74.csc.calpoly.edu', \n",
    "                              password='Jrk1jrk2jrk3')\n",
    "\n",
    "cur = connection.cursor()\n",
    " \n",
    "query = \"\"\"\n",
    "SELECT t.* FROM public.element_tags t \n",
    "where key != 'created_by'\n",
    "     \n",
    "     \n",
    "     \"\"\"\n",
    "cur.execute(query)\n",
    "queried_data = cur.fetchall()"
   ]
  },
  {
   "cell_type": "code",
   "execution_count": 16,
   "metadata": {},
   "outputs": [],
   "source": [
    "element_tags = pd.DataFrame(queried_data, columns = [\"Key\", \"Value\", \"OSM-ID\"])"
   ]
  },
  {
   "cell_type": "code",
   "execution_count": 39,
   "metadata": {},
   "outputs": [
    {
     "data": {
      "text/plain": [
       "_closed_way    292840\n",
       "building       287433\n",
       "highway         55545\n",
       "barrier         12305\n",
       "source          10719\n",
       "name             8042\n",
       "service          4110\n",
       "landuse          2875\n",
       "surface          2714\n",
       "amenity          2561\n",
       "waterway         2517\n",
       "natural          2465\n",
       "maxspeed         1709\n",
       "addr:city        1627\n",
       "ref              1160\n",
       "Name: Key, dtype: int64"
      ]
     },
     "execution_count": 39,
     "metadata": {},
     "output_type": "execute_result"
    }
   ],
   "source": [
    "element_tags.Key.value_counts().head(15)"
   ]
  },
  {
   "cell_type": "markdown",
   "metadata": {},
   "source": [
    "Tags above are marking what the elements are. I am not sure what closed_way stands for. Mights want to take out that tag in future work. "
   ]
  },
  {
   "cell_type": "code",
   "execution_count": 44,
   "metadata": {},
   "outputs": [
    {
     "data": {
      "text/plain": [
       "yes             576682\n",
       "track            16479\n",
       "service          14197\n",
       "residential       9448\n",
       "wall              6996\n",
       "hut               5083\n",
       "path              4516\n",
       "footway           4391\n",
       "unclassified      4079\n",
       "hedge             3185\n",
       "PGS               3017\n",
       "driveway          2893\n",
       "no                2057\n",
       "unpaved           1595\n",
       "forest            1507\n",
       "Name: Value, dtype: int64"
      ]
     },
     "execution_count": 44,
     "metadata": {},
     "output_type": "execute_result"
    }
   ],
   "source": [
    "element_tags.Value.value_counts().head(15)"
   ]
  },
  {
   "cell_type": "markdown",
   "metadata": {},
   "source": [
    "The counts above are largely dominated by yes (80% of answers). I don't know what that tag means yet..."
   ]
  },
  {
   "cell_type": "code",
   "execution_count": 47,
   "metadata": {},
   "outputs": [],
   "source": [
    "cur2 = connection.cursor()\n",
    " \n",
    "query = \"\"\"\n",
    "SELECT t.* FROM public.element_tags t \n",
    "where key = 'created_by'\n",
    "     \n",
    "     \n",
    "     \"\"\"\n",
    "cur2.execute(query)\n",
    "queried_data2 = cur2.fetchall()"
   ]
  },
  {
   "cell_type": "code",
   "execution_count": 48,
   "metadata": {},
   "outputs": [],
   "source": [
    "element_user_tags = pd.DataFrame(queried_data2, columns = [\"Key\", \"Value\", \"OSM-ID\"])"
   ]
  },
  {
   "cell_type": "code",
   "execution_count": 51,
   "metadata": {},
   "outputs": [
    {
     "data": {
      "text/plain": [
       "JOSM                     6362\n",
       "almien_coastlines         297\n",
       "dmgroom_coastlines         51\n",
       "YahooApplet 1.0            39\n",
       "Merkaartor 0.12            34\n",
       "shp2osm                    31\n",
       "Merkaartor 0.13            27\n",
       "GPSBabel-1.3.6             20\n",
       "Merkaartor 0.11             3\n",
       "osm2go v0.6.13-maemo1       2\n",
       "Name: Value, dtype: int64"
      ]
     },
     "execution_count": 51,
     "metadata": {},
     "output_type": "execute_result"
    }
   ],
   "source": [
    "element_user_tags.Value.value_counts()"
   ]
  },
  {
   "cell_type": "markdown",
   "metadata": {},
   "source": [
    "These dont actually look like users but just other creation techniques. \n",
    "Note: JOSM is the editor Open Street Maps"
   ]
  },
  {
   "cell_type": "code",
   "execution_count": null,
   "metadata": {},
   "outputs": [],
   "source": []
  }
 ],
 "metadata": {
  "kernelspec": {
   "display_name": "Python 3",
   "language": "python",
   "name": "python3"
  },
  "language_info": {
   "codemirror_mode": {
    "name": "ipython",
    "version": 3
   },
   "file_extension": ".py",
   "mimetype": "text/x-python",
   "name": "python",
   "nbconvert_exporter": "python",
   "pygments_lexer": "ipython3",
   "version": "3.6.4"
  }
 },
 "nbformat": 4,
 "nbformat_minor": 2
}
