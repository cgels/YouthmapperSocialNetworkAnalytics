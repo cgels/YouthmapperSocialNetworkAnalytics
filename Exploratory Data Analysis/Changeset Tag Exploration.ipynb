{
 "cells": [
  {
   "cell_type": "code",
   "execution_count": 3,
   "metadata": {},
   "outputs": [],
   "source": [
    "import psycopg2\n",
    "import pandas as pd\n",
    "import matplotlib.pyplot as plt\n",
    "import numpy as np\n",
    "import time\n",
    "import math\n",
    "from collections import Counter\n",
    "\n",
    "%matplotlib inline\n",
    "\n",
    "plt.style.use(\"ggplot\")"
   ]
  },
  {
   "cell_type": "code",
   "execution_count": 4,
   "metadata": {},
   "outputs": [],
   "source": [
    "connection = psycopg2.connect(dbname='geocenterdev',\n",
    "                              user='jrkaspar', \n",
    "                              host='cslvm74.csc.calpoly.edu', \n",
    "                              password='Jrk1jrk2jrk3')\n",
    "\n",
    "cur = connection.cursor()\n",
    " \n",
    "query = \"\"\"\n",
    "SELECT t.* FROM public.changeset_tags t \n",
    "where key != 'created_by'\n",
    "     \n",
    "     \n",
    "     \"\"\"\n",
    "cur.execute(query)\n",
    "queried_data = cur.fetchall()"
   ]
  },
  {
   "cell_type": "code",
   "execution_count": 5,
   "metadata": {},
   "outputs": [],
   "source": [
    "changeset_tags = pd.DataFrame(queried_data, columns = [\"Key\", \"Value\", \"OSM-ID\"])"
   ]
  },
  {
   "cell_type": "code",
   "execution_count": 6,
   "metadata": {},
   "outputs": [
    {
     "data": {
      "text/plain": [
       "comment                           39205\n",
       "source                            22334\n",
       "imagery_used                       8523\n",
       "locale                             7598\n",
       "host                               7594\n",
       "version                            7444\n",
       "build                              7440\n",
       "changesets_count                   1169\n",
       "hashtags                            475\n",
       "review_requested                    134\n",
       "ideditor:walkthrough_started         87\n",
       "ideditor:walkthrough_progress        78\n",
       "platform                             76\n",
       "browser                              76\n",
       "ideditor:walkthrough_completed       36\n",
       "Name: Key, dtype: int64"
      ]
     },
     "execution_count": 6,
     "metadata": {},
     "output_type": "execute_result"
    }
   ],
   "source": [
    "changeset_tags.Key.value_counts().head(15)"
   ]
  },
  {
   "cell_type": "code",
   "execution_count": 16,
   "metadata": {},
   "outputs": [
    {
     "data": {
      "text/plain": [
       "tms[22]:https://api.mapbox.com/v4/digitalglobe.2lnp1jee/{z}/{x}/{y}.png?access_token=pk.eyJ1IjoiZGlnaXRhbGdsb2JlIiwiYSI6ImNpd3A2OTAwODAwNGUyenFuNTkyZjRkeWsifQ.Y44JcpYP9gXsZD3p5KBZbA                       15190\n",
       "http://www.openstreetmap.org/id                                                                                                                                                                              5018\n",
       "2.3                                                                                                                                                                                                          4939\n",
       "en-US                                                                                                                                                                                                        4411\n",
       "Bing                                                                                                                                                                                                         4158\n",
       "Bing;Local GPX                                                                                                                                                                                               1701\n",
       "2.4                                                                                                                                                                                                          1300\n",
       "Bing aerial imagery                                                                                                                                                                                          1254\n",
       "en-GB                                                                                                                                                                                                        1149\n",
       "2.3-605-gbec0ea7                                                                                                                                                                                             1075\n",
       "tms[22]:http://hiu-maps.net/hot/1.0.0/tara-26jan2017-flipped/{z}/{x}/{y}.png                                                                                                                                 1043\n",
       "https://www.openstreetmap.org/id                                                                                                                                                                              962\n",
       "tms[19]:http://{switch:a,b,c}.tiles.mapbox.com/v4/digitalglobe.316c9a2e/{zoom}/{x}/{y}.png?access_token=pk.eyJ1IjoiZGlnaXRhbGdsb2JlIiwiYSI6ImNqMmFxdGp5aTAwOWIzM3M1NDZ2eGU1a2QifQ.JN5adNxCwK_oprEwFEtjjg      810\n",
       "http://www.openstreetmap.org/edit                                                                                                                                                                             810\n",
       "https://www.openstreetmap.org/edit                                                                                                                                                                            751\n",
       "Bing aerial imagery;Local GPX                                                                                                                                                                                 736\n",
       "#hotosm-project-2713 #MissingMaps #EliminateMalaria #Zimbabwe #YouthMappersUganda #MappersForLife #Nabulo Carol                                                                                               696\n",
       "Custom (https://api.mapbox.com/v4/digitalglobe.2lnp1jee/{z}/{x}/{y}.png?access_token=pk.eyJ1IjoiZGlnaXRhbGdsb2JlIiwiYSI6ImNpd3A2OTAwODAwNGUyenFuNTkyZjRkeWsifQ.Y44JcpYP9gXsZD3p5KBZbA);Local GPX              682\n",
       "it                                                                                                                                                                                                            672\n",
       "2.3-650-gad99430                                                                                                                                                                                              634\n",
       "Name: Value, dtype: int64"
      ]
     },
     "execution_count": 16,
     "metadata": {},
     "output_type": "execute_result"
    }
   ],
   "source": [
    "changeset_tags.Value.value_counts().head(20)"
   ]
  },
  {
   "cell_type": "markdown",
   "metadata": {},
   "source": [
    "Above is where I am going to have to do a lot more work seperating the hashtags and trying to single out countries so we can use that to classify which country is being worked on for our social network model. This is a lot more comment based than Element Tags. There is a lot of good stuff like the hotosm with task numbers the YouthMappers # and some country hashtags."
   ]
  },
  {
   "cell_type": "code",
   "execution_count": 11,
   "metadata": {},
   "outputs": [],
   "source": [
    "cur2 = connection.cursor()\n",
    " \n",
    "query = \"\"\"\n",
    "SELECT t.* FROM public.changeset_tags t \n",
    "where key = 'created_by'\n",
    "     \n",
    "     \n",
    "     \"\"\"\n",
    "cur2.execute(query)\n",
    "queried_data2 = cur2.fetchall()"
   ]
  },
  {
   "cell_type": "code",
   "execution_count": 12,
   "metadata": {},
   "outputs": [],
   "source": [
    "changeset_user_tags = pd.DataFrame(queried_data2, columns = [\"Key\", \"Value\", \"OSM-ID\"])"
   ]
  },
  {
   "cell_type": "code",
   "execution_count": 15,
   "metadata": {},
   "outputs": [
    {
     "data": {
      "text/plain": [
       "Potlatch 2                7444\n",
       "JOSM/1.5 (11427 en)       5461\n",
       "JOSM/1.5 (12039 en)       2558\n",
       "JOSM/1.5 (11639 en)       2481\n",
       "JOSM/1.5 (11526 en)       2263\n",
       "iD 1.9.7                  1379\n",
       "JOSM/1.5 (12275 en)       1332\n",
       "iD 2.1.3                  1156\n",
       "JOSM/1.5 (9060 en)         962\n",
       "JOSM/1.5 (11526 en_GB)     853\n",
       "JOSM/1.5 (10786 en)        801\n",
       "JOSM/1.5 (10327 en)        716\n",
       "iD 2.1.2                   657\n",
       "iD 2.0.1                   639\n",
       "iD 2.5.1                   598\n",
       "Potlatch 1.4 (save en)     467\n",
       "iD 2.4.1                   355\n",
       "iD 1.9.6                   315\n",
       "iD 1.9.2                   298\n",
       "JOSM/1.5 (12921 en)        264\n",
       "Name: Value, dtype: int64"
      ]
     },
     "execution_count": 15,
     "metadata": {},
     "output_type": "execute_result"
    }
   ],
   "source": [
    "changeset_user_tags.Value.value_counts().head(20)"
   ]
  },
  {
   "cell_type": "markdown",
   "metadata": {},
   "source": [
    "I dont know how we would use the information above."
   ]
  },
  {
   "cell_type": "code",
   "execution_count": null,
   "metadata": {},
   "outputs": [],
   "source": []
  }
 ],
 "metadata": {
  "kernelspec": {
   "display_name": "Python 3",
   "language": "python",
   "name": "python3"
  },
  "language_info": {
   "codemirror_mode": {
    "name": "ipython",
    "version": 3
   },
   "file_extension": ".py",
   "mimetype": "text/x-python",
   "name": "python",
   "nbconvert_exporter": "python",
   "pygments_lexer": "ipython3",
   "version": "3.6.4"
  }
 },
 "nbformat": 4,
 "nbformat_minor": 2
}
