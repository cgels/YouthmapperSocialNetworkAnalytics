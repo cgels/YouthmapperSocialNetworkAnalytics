{
 "cells": [
  {
   "cell_type": "code",
   "execution_count": 1,
   "metadata": {},
   "outputs": [],
   "source": [
    "import psycopg2\n",
    "import pandas as pd\n",
    "import matplotlib.pyplot as plt\n",
    "import numpy as np\n",
    "import time\n",
    "import math\n",
    "from collections import Counter\n",
    "\n",
    "%matplotlib inline\n",
    "\n",
    "plt.style.use(\"ggplot\")"
   ]
  },
  {
   "cell_type": "code",
   "execution_count": 6,
   "metadata": {},
   "outputs": [
    {
     "ename": "ProgrammingError",
     "evalue": "function st_x(geography) does not exist\nLINE 7: ST_X(A.location),\n        ^\nHINT:  No function matches the given name and argument types. You might need to add explicit type casts.\nSSL connection has been closed unexpectedly\n",
     "output_type": "error",
     "traceback": [
      "\u001b[1;31m---------------------------------------------------------------------------\u001b[0m",
      "\u001b[1;31mProgrammingError\u001b[0m                          Traceback (most recent call last)",
      "\u001b[1;32m<ipython-input-6-695e78d4098a>\u001b[0m in \u001b[0;36m<module>\u001b[1;34m()\u001b[0m\n\u001b[0;32m     20\u001b[0m \u001b[0mWHERE\u001b[0m \u001b[0mA\u001b[0m\u001b[1;33m.\u001b[0m\u001b[0mauthor_name\u001b[0m \u001b[1;33m=\u001b[0m \u001b[0mB\u001b[0m\u001b[1;33m.\u001b[0m\u001b[0mname\u001b[0m\u001b[1;33m\u001b[0m\u001b[0m\n\u001b[0;32m     21\u001b[0m \"\"\"\n\u001b[1;32m---> 22\u001b[1;33m \u001b[0mcur\u001b[0m\u001b[1;33m.\u001b[0m\u001b[0mexecute\u001b[0m\u001b[1;33m(\u001b[0m\u001b[0mquery\u001b[0m\u001b[1;33m)\u001b[0m\u001b[1;33m\u001b[0m\u001b[0m\n\u001b[0m\u001b[0;32m     23\u001b[0m \u001b[0mqueried_data\u001b[0m \u001b[1;33m=\u001b[0m \u001b[0mcur\u001b[0m\u001b[1;33m.\u001b[0m\u001b[0mfetchall\u001b[0m\u001b[1;33m(\u001b[0m\u001b[1;33m)\u001b[0m\u001b[1;33m\u001b[0m\u001b[0m\n",
      "\u001b[1;31mProgrammingError\u001b[0m: function st_x(geography) does not exist\nLINE 7: ST_X(A.location),\n        ^\nHINT:  No function matches the given name and argument types. You might need to add explicit type casts.\nSSL connection has been closed unexpectedly\n"
     ]
    }
   ],
   "source": [
    "connection = psycopg2.connect(dbname='geocenterdev',\n",
    "                              user='jrkaspar', \n",
    "                              host='cslvm74.csc.calpoly.edu', \n",
    "                              password='Jrk1jrk2jrk3')\n",
    "\n",
    "cur = connection.cursor()\n",
    " \n",
    "\n",
    "    \n",
    "query = \"\"\"\n",
    "SELECT\n",
    "A.osm_id,\n",
    "A.timestamp,\n",
    "A.type,\n",
    "A.author_name,\n",
    "ST_AsText(A.location),\n",
    "B.institution\n",
    "FROM public.element as A, public.user as B\n",
    "WHERE A.author_name = B.name\n",
    "\"\"\"\n",
    "cur.execute(query)\n",
    "queried_data = cur.fetchall()"
   ]
  },
  {
   "cell_type": "code",
   "execution_count": 4,
   "metadata": {},
   "outputs": [],
   "source": [
    "version = pd.DataFrame(queried_data, columns = [\"Key\",\"time\",\"type\",\"user\",\"location\",\"school\"])"
   ]
  },
  {
   "cell_type": "code",
   "execution_count": 7,
   "metadata": {},
   "outputs": [],
   "source": [
    "version.to_csv(\"heatMap.csv\")"
   ]
  },
  {
   "cell_type": "code",
   "execution_count": 5,
   "metadata": {},
   "outputs": [
    {
     "data": {
      "text/html": [
       "<div>\n",
       "<style scoped>\n",
       "    .dataframe tbody tr th:only-of-type {\n",
       "        vertical-align: middle;\n",
       "    }\n",
       "\n",
       "    .dataframe tbody tr th {\n",
       "        vertical-align: top;\n",
       "    }\n",
       "\n",
       "    .dataframe thead th {\n",
       "        text-align: right;\n",
       "    }\n",
       "</style>\n",
       "<table border=\"1\" class=\"dataframe\">\n",
       "  <thead>\n",
       "    <tr style=\"text-align: right;\">\n",
       "      <th></th>\n",
       "      <th>Key</th>\n",
       "      <th>time</th>\n",
       "      <th>type</th>\n",
       "      <th>user</th>\n",
       "      <th>location</th>\n",
       "      <th>school</th>\n",
       "    </tr>\n",
       "  </thead>\n",
       "  <tbody>\n",
       "    <tr>\n",
       "      <th>0</th>\n",
       "      <td>4785789618</td>\n",
       "      <td>2017-04-10 08:34:45</td>\n",
       "      <td>node</td>\n",
       "      <td>siima</td>\n",
       "      <td>POINT(27.1718238 -18.2701057)</td>\n",
       "      <td>makerere university</td>\n",
       "    </tr>\n",
       "    <tr>\n",
       "      <th>1</th>\n",
       "      <td>4912408038</td>\n",
       "      <td>2017-06-13 09:35:20</td>\n",
       "      <td>node</td>\n",
       "      <td>danielzyt</td>\n",
       "      <td>POINT(29.8878453 -18.3335435)</td>\n",
       "      <td>busitema university</td>\n",
       "    </tr>\n",
       "    <tr>\n",
       "      <th>2</th>\n",
       "      <td>4091028155</td>\n",
       "      <td>2016-04-01 21:55:08</td>\n",
       "      <td>node</td>\n",
       "      <td>aboges26</td>\n",
       "      <td>POINT(17.7067525 -10.7395065)</td>\n",
       "      <td>texas tech university</td>\n",
       "    </tr>\n",
       "    <tr>\n",
       "      <th>3</th>\n",
       "      <td>4785844347</td>\n",
       "      <td>2017-04-10 09:07:38</td>\n",
       "      <td>node</td>\n",
       "      <td>siima</td>\n",
       "      <td>POINT(27.1765869 -18.2657219)</td>\n",
       "      <td>makerere university</td>\n",
       "    </tr>\n",
       "    <tr>\n",
       "      <th>4</th>\n",
       "      <td>4091028275</td>\n",
       "      <td>2016-04-01 21:55:10</td>\n",
       "      <td>node</td>\n",
       "      <td>aboges26</td>\n",
       "      <td>POINT(17.689751 -10.7428881)</td>\n",
       "      <td>texas tech university</td>\n",
       "    </tr>\n",
       "  </tbody>\n",
       "</table>\n",
       "</div>"
      ],
      "text/plain": [
       "          Key                time  type       user  \\\n",
       "0  4785789618 2017-04-10 08:34:45  node      siima   \n",
       "1  4912408038 2017-06-13 09:35:20  node  danielzyt   \n",
       "2  4091028155 2016-04-01 21:55:08  node   aboges26   \n",
       "3  4785844347 2017-04-10 09:07:38  node      siima   \n",
       "4  4091028275 2016-04-01 21:55:10  node   aboges26   \n",
       "\n",
       "                        location                 school  \n",
       "0  POINT(27.1718238 -18.2701057)    makerere university  \n",
       "1  POINT(29.8878453 -18.3335435)    busitema university  \n",
       "2  POINT(17.7067525 -10.7395065)  texas tech university  \n",
       "3  POINT(27.1765869 -18.2657219)    makerere university  \n",
       "4   POINT(17.689751 -10.7428881)  texas tech university  "
      ]
     },
     "execution_count": 5,
     "metadata": {},
     "output_type": "execute_result"
    }
   ],
   "source": [
    "version.head()"
   ]
  },
  {
   "cell_type": "code",
   "execution_count": null,
   "metadata": {},
   "outputs": [],
   "source": []
  }
 ],
 "metadata": {
  "kernelspec": {
   "display_name": "Python 3",
   "language": "python",
   "name": "python3"
  },
  "language_info": {
   "codemirror_mode": {
    "name": "ipython",
    "version": 3
   },
   "file_extension": ".py",
   "mimetype": "text/x-python",
   "name": "python",
   "nbconvert_exporter": "python",
   "pygments_lexer": "ipython3",
   "version": "3.6.4"
  }
 },
 "nbformat": 4,
 "nbformat_minor": 2
}
