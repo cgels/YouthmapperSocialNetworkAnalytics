{
 "cells": [
  {
   "cell_type": "markdown",
   "metadata": {},
   "source": [
    "# Import Dependencies"
   ]
  },
  {
   "cell_type": "code",
   "execution_count": 67,
   "metadata": {
    "collapsed": true
   },
   "outputs": [],
   "source": [
    "import psycopg2\n",
    "import pandas as pd\n",
    "import matplotlib.pyplot as plt\n",
    "import numpy as np\n",
    "import time\n",
    "import math\n",
    "import deepgraph as dg\n",
    "from mpl_toolkits.basemap import Basemap\n",
    "\n",
    "%matplotlib inline\n",
    "\n",
    "plt.style.use(\"ggplot\")"
   ]
  },
  {
   "cell_type": "markdown",
   "metadata": {},
   "source": [
    "# Selecting Data From the Database"
   ]
  },
  {
   "cell_type": "code",
   "execution_count": 2,
   "metadata": {
    "collapsed": false
   },
   "outputs": [],
   "source": [
    "# Create the connection with the database\n",
    "connection = psycopg2.connect(dbname='geocenter',\n",
    "                              user='vmtai', \n",
    "                              host='cslvm74.csc.calpoly.edu', \n",
    "                              password='vmtai')\n",
    "\n",
    "cur = connection.cursor()\n",
    " \n",
    "query = \"\"\"\n",
    "SELECT\n",
    "  A.id,\n",
    "  A.version,\n",
    "  B.id,\n",
    "  B.version,\n",
    "  B.author,\n",
    "  ST_X(A.point),\n",
    "  ST_Y(A.point),\n",
    "  ST_X(B.point),\n",
    "  ST_Y(B.point),\n",
    "  ST_Distance(A.point, B.point) as dist\n",
    "FROM (SELECT\n",
    "        C.id,\n",
    "        C.version,\n",
    "        C.point,\n",
    "        D.timestamp,\n",
    "        D.author\n",
    "      FROM (node C\n",
    "        JOIN osm_entity D ON C.id = D.id AND C.version = D.version)\n",
    "      WHERE author = 'bigalxyz123' AND extract(YEAR FROM D.timestamp) > 2016) A\n",
    "  JOIN (SELECT\n",
    "          N.id,\n",
    "          N.version,\n",
    "          N.point,\n",
    "          O.author\n",
    "        FROM (node N\n",
    "          JOIN osm_entity O ON N.id = O.id AND N.version = O.version)\n",
    "        WHERE extract(YEAR FROM O.timestamp) > 2016 and author != 'bigalxyz123') B ON ST_DWithin(A.point, B.point, 500)\n",
    "where A.id != B.id limit 500000;\n",
    "\"\"\"\n",
    "cur.execute(query)\n",
    "queried_data = cur.fetchall()"
   ]
  },
  {
   "cell_type": "markdown",
   "metadata": {},
   "source": [
    "# Creating the Deep Graph"
   ]
  },
  {
   "cell_type": "code",
   "execution_count": 3,
   "metadata": {
    "collapsed": false
   },
   "outputs": [],
   "source": [
    "# Load the data into a pandas dataframe\n",
    "youth_data = pd.DataFrame(queried_data, columns = [\"A_id\", \"A_version\", \"B_id\", \n",
    "                                                   \"B_version\", \"B_author\",\"A_lat\", \"A_lon\", \n",
    "                                                   \"B_lat\", \"B_lon\", \"Distance\"])"
   ]
  },
  {
   "cell_type": "code",
   "execution_count": 4,
   "metadata": {
    "collapsed": false,
    "scrolled": true
   },
   "outputs": [
    {
     "data": {
      "text/html": [
       "<div>\n",
       "<style scoped>\n",
       "    .dataframe tbody tr th:only-of-type {\n",
       "        vertical-align: middle;\n",
       "    }\n",
       "\n",
       "    .dataframe tbody tr th {\n",
       "        vertical-align: top;\n",
       "    }\n",
       "\n",
       "    .dataframe thead th {\n",
       "        text-align: right;\n",
       "    }\n",
       "</style>\n",
       "<table border=\"1\" class=\"dataframe\">\n",
       "  <thead>\n",
       "    <tr style=\"text-align: right;\">\n",
       "      <th></th>\n",
       "      <th>A_id</th>\n",
       "      <th>A_version</th>\n",
       "      <th>B_id</th>\n",
       "      <th>B_version</th>\n",
       "      <th>B_author</th>\n",
       "      <th>A_lat</th>\n",
       "      <th>A_lon</th>\n",
       "      <th>B_lat</th>\n",
       "      <th>B_lon</th>\n",
       "      <th>Distance</th>\n",
       "    </tr>\n",
       "  </thead>\n",
       "  <tbody>\n",
       "    <tr>\n",
       "      <th>0</th>\n",
       "      <td>772973076</td>\n",
       "      <td>2</td>\n",
       "      <td>4906132454</td>\n",
       "      <td>1</td>\n",
       "      <td>Hills95</td>\n",
       "      <td>54.217106</td>\n",
       "      <td>-2.591935</td>\n",
       "      <td>-17.909742</td>\n",
       "      <td>30.930817</td>\n",
       "      <td>79.536515</td>\n",
       "    </tr>\n",
       "    <tr>\n",
       "      <th>1</th>\n",
       "      <td>772973076</td>\n",
       "      <td>2</td>\n",
       "      <td>4782026882</td>\n",
       "      <td>1</td>\n",
       "      <td>prosper1994</td>\n",
       "      <td>54.217106</td>\n",
       "      <td>-2.591935</td>\n",
       "      <td>-19.155132</td>\n",
       "      <td>28.124201</td>\n",
       "      <td>79.542230</td>\n",
       "    </tr>\n",
       "    <tr>\n",
       "      <th>2</th>\n",
       "      <td>772973076</td>\n",
       "      <td>2</td>\n",
       "      <td>4782026881</td>\n",
       "      <td>1</td>\n",
       "      <td>prosper1994</td>\n",
       "      <td>54.217106</td>\n",
       "      <td>-2.591935</td>\n",
       "      <td>-19.155131</td>\n",
       "      <td>28.124253</td>\n",
       "      <td>79.542249</td>\n",
       "    </tr>\n",
       "    <tr>\n",
       "      <th>3</th>\n",
       "      <td>772973076</td>\n",
       "      <td>2</td>\n",
       "      <td>4782026880</td>\n",
       "      <td>1</td>\n",
       "      <td>prosper1994</td>\n",
       "      <td>54.217106</td>\n",
       "      <td>-2.591935</td>\n",
       "      <td>-19.155200</td>\n",
       "      <td>28.124253</td>\n",
       "      <td>79.542313</td>\n",
       "    </tr>\n",
       "    <tr>\n",
       "      <th>4</th>\n",
       "      <td>772973076</td>\n",
       "      <td>2</td>\n",
       "      <td>4782026883</td>\n",
       "      <td>1</td>\n",
       "      <td>prosper1994</td>\n",
       "      <td>54.217106</td>\n",
       "      <td>-2.591935</td>\n",
       "      <td>-19.155200</td>\n",
       "      <td>28.124202</td>\n",
       "      <td>79.542293</td>\n",
       "    </tr>\n",
       "  </tbody>\n",
       "</table>\n",
       "</div>"
      ],
      "text/plain": [
       "        A_id  A_version        B_id  B_version     B_author      A_lat  \\\n",
       "0  772973076          2  4906132454          1      Hills95  54.217106   \n",
       "1  772973076          2  4782026882          1  prosper1994  54.217106   \n",
       "2  772973076          2  4782026881          1  prosper1994  54.217106   \n",
       "3  772973076          2  4782026880          1  prosper1994  54.217106   \n",
       "4  772973076          2  4782026883          1  prosper1994  54.217106   \n",
       "\n",
       "      A_lon      B_lat      B_lon   Distance  \n",
       "0 -2.591935 -17.909742  30.930817  79.536515  \n",
       "1 -2.591935 -19.155132  28.124201  79.542230  \n",
       "2 -2.591935 -19.155131  28.124253  79.542249  \n",
       "3 -2.591935 -19.155200  28.124253  79.542313  \n",
       "4 -2.591935 -19.155200  28.124202  79.542293  "
      ]
     },
     "execution_count": 4,
     "metadata": {},
     "output_type": "execute_result"
    }
   ],
   "source": [
    "youth_data.head()"
   ]
  },
  {
   "cell_type": "markdown",
   "metadata": {},
   "source": [
    "Drop some of the columns I don't. need I may work with these columns in the future, so I left the query as is."
   ]
  },
  {
   "cell_type": "code",
   "execution_count": 5,
   "metadata": {
    "collapsed": false
   },
   "outputs": [],
   "source": [
    "youth_data.drop([\"A_id\", \"A_version\", \"B_version\", \n",
    "                 \"A_lat\", \"A_lon\", \"Distance\"], axis = 1, \n",
    "                inplace = True)"
   ]
  },
  {
   "cell_type": "markdown",
   "metadata": {},
   "source": [
    "After some trial and error, I realized that for 5000 nodes, it was creating 12 million edges and my computer was unable to plot it. "
   ]
  },
  {
   "cell_type": "code",
   "execution_count": 14,
   "metadata": {
    "collapsed": false
   },
   "outputs": [],
   "source": [
    "subset_youth_data = youth_data.sample(100)"
   ]
  },
  {
   "cell_type": "code",
   "execution_count": 15,
   "metadata": {
    "collapsed": true
   },
   "outputs": [],
   "source": [
    "graph = dg.DeepGraph(subset_youth_data)"
   ]
  },
  {
   "cell_type": "markdown",
   "metadata": {},
   "source": [
    "Below I am creating the functions on how to connect each edge. I calculate the lat and lon distane from one point to the next and then I select only users that are within 90m of one another."
   ]
  },
  {
   "cell_type": "code",
   "execution_count": 16,
   "metadata": {
    "collapsed": false
   },
   "outputs": [],
   "source": [
    "def calc_lat(B_lat_s, B_lat_t):\n",
    "    dlat = B_lat_s - B_lat_t\n",
    "    return dlat"
   ]
  },
  {
   "cell_type": "code",
   "execution_count": 17,
   "metadata": {
    "collapsed": true
   },
   "outputs": [],
   "source": [
    "def distance(dlat, B_lon_s, B_lon_t):\n",
    "    dlon = B_lon_s - B_lon_t\n",
    "    dist = np.sqrt(dlat**2 + dlon**2)\n",
    "    return dlon, dist"
   ]
  },
  {
   "cell_type": "code",
   "execution_count": 18,
   "metadata": {
    "collapsed": true
   },
   "outputs": [],
   "source": [
    "def lat_selector(dlat, sources, targets):\n",
    "    return sources, targets"
   ]
  },
  {
   "cell_type": "markdown",
   "metadata": {},
   "source": [
    "I tried to reduce the selection criteria, but there were some errors. I will be trying to fix this in the next meeting."
   ]
  },
  {
   "cell_type": "code",
   "execution_count": 19,
   "metadata": {
    "collapsed": true
   },
   "outputs": [],
   "source": [
    "def dist_selector(dist, sources, targets):\n",
    "    dista = np.abs(dist)\n",
    "    sources = sources[dista <= 90]\n",
    "    targts = targets[dista <= 90]\n",
    "    return sources, targets"
   ]
  },
  {
   "cell_type": "code",
   "execution_count": 20,
   "metadata": {
    "collapsed": false
   },
   "outputs": [],
   "source": [
    "# Create the graphs based on what criteria to connect and select\n",
    "graph.create_edges(connectors = [calc_lat, distance],\n",
    "                   selectors = [lat_selector, dist_selector])"
   ]
  },
  {
   "cell_type": "code",
   "execution_count": 75,
   "metadata": {
    "collapsed": false
   },
   "outputs": [
    {
     "data": {
      "text/html": [
       "<div>\n",
       "<style scoped>\n",
       "    .dataframe tbody tr th:only-of-type {\n",
       "        vertical-align: middle;\n",
       "    }\n",
       "\n",
       "    .dataframe tbody tr th {\n",
       "        vertical-align: top;\n",
       "    }\n",
       "\n",
       "    .dataframe thead th {\n",
       "        text-align: right;\n",
       "    }\n",
       "</style>\n",
       "<table border=\"1\" class=\"dataframe\">\n",
       "  <thead>\n",
       "    <tr style=\"text-align: right;\">\n",
       "      <th></th>\n",
       "      <th></th>\n",
       "      <th>dist</th>\n",
       "      <th>dlat</th>\n",
       "      <th>dlon</th>\n",
       "    </tr>\n",
       "    <tr>\n",
       "      <th>s</th>\n",
       "      <th>t</th>\n",
       "      <th></th>\n",
       "      <th></th>\n",
       "      <th></th>\n",
       "    </tr>\n",
       "  </thead>\n",
       "  <tbody>\n",
       "    <tr>\n",
       "      <th rowspan=\"5\" valign=\"top\">275811</th>\n",
       "      <th>341339</th>\n",
       "      <td>33.469697</td>\n",
       "      <td>-24.509218</td>\n",
       "      <td>22.792957</td>\n",
       "    </tr>\n",
       "    <tr>\n",
       "      <th>434646</th>\n",
       "      <td>2.462237</td>\n",
       "      <td>1.152458</td>\n",
       "      <td>-2.175880</td>\n",
       "    </tr>\n",
       "    <tr>\n",
       "      <th>460556</th>\n",
       "      <td>0.806177</td>\n",
       "      <td>0.573071</td>\n",
       "      <td>-0.567019</td>\n",
       "    </tr>\n",
       "    <tr>\n",
       "      <th>47067</th>\n",
       "      <td>1.984723</td>\n",
       "      <td>0.969817</td>\n",
       "      <td>-1.731641</td>\n",
       "    </tr>\n",
       "    <tr>\n",
       "      <th>465021</th>\n",
       "      <td>0.738849</td>\n",
       "      <td>0.429475</td>\n",
       "      <td>-0.601206</td>\n",
       "    </tr>\n",
       "  </tbody>\n",
       "</table>\n",
       "</div>"
      ],
      "text/plain": [
       "                    dist       dlat       dlon\n",
       "s      t                                      \n",
       "275811 341339  33.469697 -24.509218  22.792957\n",
       "       434646   2.462237   1.152458  -2.175880\n",
       "       460556   0.806177   0.573071  -0.567019\n",
       "       47067    1.984723   0.969817  -1.731641\n",
       "       465021   0.738849   0.429475  -0.601206"
      ]
     },
     "execution_count": 75,
     "metadata": {},
     "output_type": "execute_result"
    }
   ],
   "source": [
    "graph.e.head()"
   ]
  },
  {
   "cell_type": "code",
   "execution_count": 44,
   "metadata": {
    "collapsed": false
   },
   "outputs": [
    {
     "data": {
      "image/png": "[encoded data removed]",
      "text/plain": [
       "<matplotlib.figure.Figure at 0x10f97ff28>"
      ]
     },
     "metadata": {},
     "output_type": "display_data"
    }
   ],
   "source": [
    "# Plotting the lat and lon as a scatterplot\n",
    "obj = graph.plot_2d(\"B_lat\", \"B_lon\", edges = True,\n",
    "                kwds_scatter = {'c': graph.v.B_id})\n"
   ]
  },
  {
   "cell_type": "code",
   "execution_count": 64,
   "metadata": {
    "collapsed": false
   },
   "outputs": [],
   "source": [
    "# Parameters for the map graph\n",
    "kwds_basemap = {'llcrnrlon': graph.v.B_lon.min() - 40,\n",
    "                'urcrnrlon': graph.v.B_lon.max() + 20,\n",
    "                'llcrnrlat': graph.v.B_lat.min() - 20,\n",
    "                'urcrnrlat': graph.v.B_lat.max() + 20,\n",
    "                'resolution': 'i'}\n",
    "\n",
    "kwds_scatter = {'s': 1.5, \n",
    "                'c': graph.v.B_id,\n",
    "                'edgecolors':'none'}"
   ]
  },
  {
   "cell_type": "code",
   "execution_count": 77,
   "metadata": {
    "collapsed": false
   },
   "outputs": [
    {
     "data": {
      "image/png": "[encoded data removed]",
      "text/plain": [
       "<matplotlib.figure.Figure at 0x1235d4438>"
      ]
     },
     "metadata": {},
     "output_type": "display_data"
    }
   ],
   "source": [
    "# Mapping the nodes\n",
    "objs = graph.plot_map(\"B_lat\", \"B_lon\",\n",
    "                       edges = True,\n",
    "                       kwds_basemap = kwds_basemap,\n",
    "                       kwds_scatter = kwds_scatter)\n",
    "\n",
    "objs['m'].drawcoastlines(linewidth=.3)\n",
    "objs['m'].drawparallels(range(-50, 50, 20), linewidth=.2)\n",
    "objs['m'].drawmeridians(range(0, 360, 20), linewidth=.2)\n",
    "objs['ax'].set_title(\"Map of 100 Nodes\")\n",
    "plt.savefig(\"map_of_100_nodes.png\")"
   ]
  },
  {
   "cell_type": "markdown",
   "metadata": {},
   "source": [
    "I wanted to make a graph which each user to other users dependent on their nodes. In future exploration, I will be adding time into the analysis. Picking the users based on the when they started making a node and then calculating how far away they are from other users and how close they are in proximity of time."
   ]
  }
 ],
 "metadata": {
  "kernelspec": {
   "display_name": "Python 3",
   "language": "python",
   "name": "python3"
  },
  "language_info": {
   "codemirror_mode": {
    "name": "ipython",
    "version": 3
   },
   "file_extension": ".py",
   "mimetype": "text/x-python",
   "name": "python",
   "nbconvert_exporter": "python",
   "pygments_lexer": "ipython3",
   "version": "3.5.4"
  }
 },
 "nbformat": 4,
 "nbformat_minor": 2
}
